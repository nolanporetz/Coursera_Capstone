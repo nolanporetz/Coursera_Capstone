{
 "cells": [
  {
   "cell_type": "markdown",
   "metadata": {},
   "source": [
    "# Introduction "
   ]
  },
  {
   "cell_type": "markdown",
   "metadata": {},
   "source": [
    "   In this project, we will be looking to help PO LLC. find the optimal neighborhood to open up a new, modern bar in either Toronto or New York City.  The business problem that we would like to figure out will be: how can we use readily available data on the internet to determine where the best spot to open up such a bar would be?  As these cities are highly populated and diverse, it will be interesting to figure out within these two cities where there will be the least competition (or a higher need) for a bar.  \n",
    "\n",
    "   After initial research, PO LLC. has decided that they would like to open up a bar in either the boroughs of Central Toronto, or Bronx.  It is our goal to figure out which specific neighborhood will be best suited for the opening of this new restaurant.  It is the firm's goal to find the most optimal spot for profit potential so that it will be relatively easy to convince potential stakeholders to invest in our new establishment.  \n",
    "   \n",
    "   As we have just discussed, it is going to be incredibly important for PO LLC. to have financial backings from our stakeholders.  Furthermore, we must not forget who this new bar will impact the most, which will be residents of the neighborhood in which the bar will be opening.  This poses some questions.  Will the neighborhood accept that a new, modern bar will be opening up in their area of residence?  Will this cause problems with the local authorities?  Will the local government allow for our establishment to open?  All of these questions we will attempt to answer utilizing data and research.  "
   ]
  },
  {
   "cell_type": "markdown",
   "metadata": {},
   "source": [
    "# Data"
   ]
  },
  {
   "cell_type": "markdown",
   "metadata": {},
   "source": [
    "The data we will be utilizing to answer this question will be found primarily from:\n",
    "\n",
    " - List of Postal Codes of Canada from wikipedia\n",
    "     - This wiki webpage will allow for us to combine geographical data from Toronto with the data from the foursquare API essentially allowing us to look into potential spots to open up a bar in Central Toronto.\n",
    " - JSON file of NYC boroughs\n",
    "     - This JSON file will allow us to access geospatial data of the New York City boroughs and neighborhoods.  Similarly to the Toronto wiki webpage, this well help us look into potential spots to open up a bar in the Bronx.\n",
    " - Foursquare API Data\n",
    "     - The Foursquare API data will allow us to navigate through the geospatial data of the boroughs/neighborhoods that we will be looking at.  Specifically the foursquare API data will be intrinsic in finding spots where there may be high demand for a modern bar, as we will get to see specific venue types/locations in our areas of interest.\n",
    " - NYC Demographic Data\n",
    "     - The NYC Demographic Data will allow us to further dive into the needs of our target market for the Bronx.  Specifically, we will need to know the population of certain neighborhoods in order to make an intelligent guess on where profit will be highest once we have narrowed down our search for the correct neighborhood."
   ]
  },
  {
   "cell_type": "code",
   "execution_count": null,
   "metadata": {},
   "outputs": [],
   "source": []
  }
 ],
 "metadata": {
  "kernelspec": {
   "display_name": "Python 3",
   "language": "python",
   "name": "python3"
  },
  "language_info": {
   "codemirror_mode": {
    "name": "ipython",
    "version": 3
   },
   "file_extension": ".py",
   "mimetype": "text/x-python",
   "name": "python",
   "nbconvert_exporter": "python",
   "pygments_lexer": "ipython3",
   "version": "3.7.6"
  }
 },
 "nbformat": 4,
 "nbformat_minor": 4
}
