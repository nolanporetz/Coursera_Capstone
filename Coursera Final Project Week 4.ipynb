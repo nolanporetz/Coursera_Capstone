{
 "cells": [
  {
   "cell_type": "markdown",
   "metadata": {},
   "source": [
    "# Introduction"
   ]
  },
  {
   "cell_type": "markdown",
   "metadata": {},
   "source": [
    "   In this project, we will be looking to help PO LLC. find the optimal borough to open up a restaurant in either Toronto or New York City.  The business problem that we would like to figure out will be: how can we use readily available data on the internet to determine where the best spot to open up such a restaurant would be?  As these cities are highly populated and diverse, it will be interesting to figure out within these two cities where there will be the least competition (or a higher need) for a restaurant.  \n",
    "\n",
    "   After initial research, PO LLC. has decided that they would like to open up a restaurant in either the boroughs of Central Toronto, or Bronx.  It is our goal to figure out which specific neighborhood will be best suited for the opening of this new restaurant."
   ]
  },
  {
   "cell_type": "markdown",
   "metadata": {},
   "source": [
    "# Data"
   ]
  },
  {
   "cell_type": "markdown",
   "metadata": {},
   "source": [
    "The data we will be utilizing to answer this question will be found primarily from:\n",
    "\n",
    " - List of Postal Codes of Canada from wikipedia\n",
    " - JSON file of NYC boroughs\n",
    " - Foursquare API Data"
   ]
  }
 ],
 "metadata": {
  "kernelspec": {
   "display_name": "Python 3",
   "language": "python",
   "name": "python3"
  },
  "language_info": {
   "codemirror_mode": {
    "name": "ipython",
    "version": 3
   },
   "file_extension": ".py",
   "mimetype": "text/x-python",
   "name": "python",
   "nbconvert_exporter": "python",
   "pygments_lexer": "ipython3",
   "version": "3.7.6"
  }
 },
 "nbformat": 4,
 "nbformat_minor": 4
}
